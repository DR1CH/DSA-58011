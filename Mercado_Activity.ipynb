{
  "nbformat": 4,
  "nbformat_minor": 0,
  "metadata": {
    "colab": {
      "provenance": [],
      "authorship_tag": "ABX9TyOXOTS7fUlFUWoXdvKOwCn3",
      "include_colab_link": true
    },
    "kernelspec": {
      "name": "python3",
      "display_name": "Python 3"
    },
    "language_info": {
      "name": "python"
    }
  },
  "cells": [
    {
      "cell_type": "markdown",
      "metadata": {
        "id": "view-in-github",
        "colab_type": "text"
      },
      "source": [
        "<a href=\"https://colab.research.google.com/github/DR1CH/DSA-58011/blob/main/Mercado_Activity.ipynb\" target=\"_parent\"><img src=\"https://colab.research.google.com/assets/colab-badge.svg\" alt=\"Open In Colab\"/></a>"
      ]
    },
    {
      "cell_type": "code",
      "execution_count": 2,
      "metadata": {
        "colab": {
          "base_uri": "https://localhost:8080/"
        },
        "id": "2d3VKALeVmAF",
        "outputId": "dc7c16e5-17ba-4f6f-c3c7-5f42497472db"
      },
      "outputs": [
        {
          "output_type": "stream",
          "name": "stdout",
          "text": [
            "Original Array : [1, 2, 3, 4, 5]\n",
            "Reversed Array : [5, 4, 3, 2, 1]\n"
          ]
        }
      ],
      "source": [
        "arr = [1,2,3,4,5]\n",
        "print(\"Original Array :\",arr)\n",
        " \n",
        "res = arr[::-1]\n",
        "print(\"Reversed Array :\",res)"
      ]
    },
    {
      "cell_type": "markdown",
      "source": [
        "5. Write a Python program to get the length of the array. Original array: numbers = [5, 4, 3, 2, 1]"
      ],
      "metadata": {
        "id": "0gQj-_CxVqkv"
      }
    },
    {
      "cell_type": "code",
      "source": [
        "from operator import length_hint \n",
        "inp_lst = [5,4,3,2,1]\n",
        "print(\"Length of the array:\")\n",
        "size = length_hint(inp_lst)\n",
        "print(size)\n"
      ],
      "metadata": {
        "colab": {
          "base_uri": "https://localhost:8080/"
        },
        "id": "2GO_cz2IVvcB",
        "outputId": "253ffed1-74c9-48de-ccdb-6a677ac42202"
      },
      "execution_count": 1,
      "outputs": [
        {
          "output_type": "stream",
          "name": "stdout",
          "text": [
            "Length of the array:\n",
            "5\n"
          ]
        }
      ]
    }
  ]
}