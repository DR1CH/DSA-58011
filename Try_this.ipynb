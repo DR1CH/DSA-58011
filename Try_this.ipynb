{
  "nbformat": 4,
  "nbformat_minor": 0,
  "metadata": {
    "colab": {
      "name": "Try this",
      "provenance": [],
      "authorship_tag": "ABX9TyP0pQTPlwkirvumihv4oVd2",
      "include_colab_link": true
    },
    "kernelspec": {
      "name": "python3",
      "display_name": "Python 3"
    },
    "language_info": {
      "name": "python"
    }
  },
  "cells": [
    {
      "cell_type": "markdown",
      "metadata": {
        "id": "view-in-github",
        "colab_type": "text"
      },
      "source": [
        "<a href=\"https://colab.research.google.com/github/DR1CH/DSA-58011/blob/main/Try_this.ipynb\" target=\"_parent\"><img src=\"https://colab.research.google.com/assets/colab-badge.svg\" alt=\"Open In Colab\"/></a>"
      ]
    },
    {
      "cell_type": "code",
      "execution_count": 3,
      "metadata": {
        "colab": {
          "base_uri": "https://localhost:8080/"
        },
        "id": "olofqSiyIXor",
        "outputId": "16902337-9d07-4f68-c0b0-f8dd4679042e"
      },
      "outputs": [
        {
          "output_type": "stream",
          "name": "stdout",
          "text": [
            "Area of cirlce: 153.86\n"
          ]
        }
      ],
      "source": [
        "class Circle:\n",
        "  def __init__(self, r):\n",
        "    self.radius = r\n",
        "  def area(self):\n",
        "      return 3.14 * (self.radius ** 2)\n",
        "obj = Circle(7)\n",
        "print(\"Area of cirlce:\",obj.area())"
      ]
    }
  ]
}