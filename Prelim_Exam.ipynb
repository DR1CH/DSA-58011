{
  "nbformat": 4,
  "nbformat_minor": 0,
  "metadata": {
    "colab": {
      "provenance": [],
      "authorship_tag": "ABX9TyNAxpcC8TnqopF68/kXDBSn",
      "include_colab_link": true
    },
    "kernelspec": {
      "name": "python3",
      "display_name": "Python 3"
    },
    "language_info": {
      "name": "python"
    }
  },
  "cells": [
    {
      "cell_type": "markdown",
      "metadata": {
        "id": "view-in-github",
        "colab_type": "text"
      },
      "source": [
        "<a href=\"https://colab.research.google.com/github/DR1CH/DSA-58011/blob/main/Prelim_Exam.ipynb\" target=\"_parent\"><img src=\"https://colab.research.google.com/assets/colab-badge.svg\" alt=\"Open In Colab\"/></a>"
      ]
    },
    {
      "cell_type": "markdown",
      "source": [],
      "metadata": {
        "id": "tWa9N27lr8aW"
      }
    },
    {
      "cell_type": "code",
      "source": [
        "CIntegers = [4,6,8,9]\n",
        "print(\"Composite Integers less than 10 but greater than 1:\",CIntegers)\n",
        "print(\"Number of Composite Integers:\",len(CIntegers))"
      ],
      "metadata": {
        "colab": {
          "base_uri": "https://localhost:8080/"
        },
        "id": "7X8H4gW0s8Dl",
        "outputId": "9f26ebba-7af3-4d45-ab67-c781f679969e"
      },
      "execution_count": 9,
      "outputs": [
        {
          "output_type": "stream",
          "name": "stdout",
          "text": [
            "Composite Integers less than 10 but greater than 1: [4, 6, 8, 9]\n",
            "Number of Composite Integers: 4\n"
          ]
        }
      ]
    }
  ]
}