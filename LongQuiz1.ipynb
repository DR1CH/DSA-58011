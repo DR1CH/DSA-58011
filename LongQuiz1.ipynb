{
  "nbformat": 4,
  "nbformat_minor": 0,
  "metadata": {
    "colab": {
      "provenance": [],
      "authorship_tag": "ABX9TyPczPCDFKJcXf0QEg08WE/m",
      "include_colab_link": true
    },
    "kernelspec": {
      "name": "python3",
      "display_name": "Python 3"
    },
    "language_info": {
      "name": "python"
    }
  },
  "cells": [
    {
      "cell_type": "markdown",
      "metadata": {
        "id": "view-in-github",
        "colab_type": "text"
      },
      "source": [
        "<a href=\"https://colab.research.google.com/github/DR1CH/DSA-58011/blob/main/LongQuiz1.ipynb\" target=\"_parent\"><img src=\"https://colab.research.google.com/assets/colab-badge.svg\" alt=\"Open In Colab\"/></a>"
      ]
    },
    {
      "cell_type": "markdown",
      "source": [
        "Array"
      ],
      "metadata": {
        "id": "7YBLmt9weS3b"
      }
    },
    {
      "cell_type": "code",
      "source": [
        "arr = [\"Lawrence\",\"Eldrich\",\"Mercado\"]\n",
        "print (\"Fullname:\",arr)\n",
        "\n",
        "res = arr[::-1]\n",
        "\n",
        "print(\"ReverseFullname:\",res)"
      ],
      "metadata": {
        "colab": {
          "base_uri": "https://localhost:8080/"
        },
        "id": "R0DOuzboeUCP",
        "outputId": "945ea25a-4f03-4948-b70d-44c424a8219e"
      },
      "execution_count": 2,
      "outputs": [
        {
          "output_type": "stream",
          "name": "stdout",
          "text": [
            "Fullname: ['Lawrence', 'Eldrich', 'Mercado']\n",
            "ReverseFullname: ['Mercado', 'Eldrich', 'Lawrence']\n"
          ]
        }
      ]
    }
  ]
}