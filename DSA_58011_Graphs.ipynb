{
  "nbformat": 4,
  "nbformat_minor": 0,
  "metadata": {
    "colab": {
      "provenance": [],
      "authorship_tag": "ABX9TyPGp+aq5Lqd5pHI4O4zAR3z",
      "include_colab_link": true
    },
    "kernelspec": {
      "name": "python3",
      "display_name": "Python 3"
    },
    "language_info": {
      "name": "python"
    }
  },
  "cells": [
    {
      "cell_type": "markdown",
      "metadata": {
        "id": "view-in-github",
        "colab_type": "text"
      },
      "source": [
        "<a href=\"https://colab.research.google.com/github/DR1CH/DSA-58011/blob/main/DSA_58011_Graphs.ipynb\" target=\"_parent\"><img src=\"https://colab.research.google.com/assets/colab-badge.svg\" alt=\"Open In Colab\"/></a>"
      ]
    },
    {
      "cell_type": "markdown",
      "source": [
        "\n",
        "Data Elements using Dictionaries to implement Graphs"
      ],
      "metadata": {
        "id": "M-FIX7usqx3u"
      }
    },
    {
      "cell_type": "code",
      "source": [
        "graph = {\n",
        "    'a':['b','c'],\n",
        "    'b':['a','d'],\n",
        "    'c':['a','d'],\n",
        "    'd':['b','c','e'],\n",
        "    'e':['e']\n",
        "\n",
        "}\n",
        "print(graph)"
      ],
      "metadata": {
        "colab": {
          "base_uri": "https://localhost:8080/"
        },
        "id": "ykc3c3iXqzQJ",
        "outputId": "a59ba50b-696d-4e75-ccbb-2bb935ab702f"
      },
      "execution_count": 1,
      "outputs": [
        {
          "output_type": "stream",
          "name": "stdout",
          "text": [
            "{'a': ['b', 'c'], 'b': ['a', 'd'], 'c': ['a', 'd'], 'd': ['b', 'c', 'e'], 'e': ['e']}\n"
          ]
        }
      ]
    },
    {
      "cell_type": "markdown",
      "source": [
        "Application 1(G20)"
      ],
      "metadata": {
        "id": "wBD4Wylkq5zp"
      }
    },
    {
      "cell_type": "code",
      "source": [
        "g20 = {\n",
        "    '2':['1','4'],\n",
        "    '3':['3','4'],\n",
        "    '1':['4'],\n",
        "\n",
        "}\n",
        "print(g20)\n",
        "\n",
        "V = {1,2,3,4}\n",
        "E= {'2': ['1', '4'], '3': ['3', '4'], '1': ['4']}"
      ],
      "metadata": {
        "colab": {
          "base_uri": "https://localhost:8080/"
        },
        "id": "oq-JzawJq8aA",
        "outputId": "4d3e0979-67db-4708-8455-dbaf0afbfd65"
      },
      "execution_count": 2,
      "outputs": [
        {
          "output_type": "stream",
          "name": "stdout",
          "text": [
            "{'2': ['1', '4'], '3': ['3', '4'], '1': ['4']}\n"
          ]
        }
      ]
    }
  ]
}