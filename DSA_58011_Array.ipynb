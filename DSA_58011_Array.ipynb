{
  "nbformat": 4,
  "nbformat_minor": 0,
  "metadata": {
    "colab": {
      "name": "DSA-58011/Array.ipynb",
      "provenance": [],
      "authorship_tag": "ABX9TyOeyNznKTRcz/I0cwVLwMO6",
      "include_colab_link": true
    },
    "kernelspec": {
      "name": "python3",
      "display_name": "Python 3"
    },
    "language_info": {
      "name": "python"
    }
  },
  "cells": [
    {
      "cell_type": "markdown",
      "metadata": {
        "id": "view-in-github",
        "colab_type": "text"
      },
      "source": [
        "<a href=\"https://colab.research.google.com/github/DR1CH/DSA-58011/blob/main/DSA_58011_Array.ipynb\" target=\"_parent\"><img src=\"https://colab.research.google.com/assets/colab-badge.svg\" alt=\"Open In Colab\"/></a>"
      ]
    },
    {
      "cell_type": "markdown",
      "source": [
        "Accessing the Elements in the Array"
      ],
      "metadata": {
        "id": "mjddEQFhg93c"
      }
    },
    {
      "cell_type": "code",
      "source": [
        "animals = ['cat','dog','fish']\n",
        "x = animals[0]\n",
        "print(x)"
      ],
      "metadata": {
        "colab": {
          "base_uri": "https://localhost:8080/"
        },
        "id": "u6OsiN0ChCmi",
        "outputId": "4090a920-64d0-4662-a164-2c11ef835bb7"
      },
      "execution_count": 1,
      "outputs": [
        {
          "output_type": "stream",
          "name": "stdout",
          "text": [
            "cat\n"
          ]
        }
      ]
    },
    {
      "cell_type": "markdown",
      "source": [
        "Modifying the Elements in the Array"
      ],
      "metadata": {
        "id": "Gw9TSNEJhj8x"
      }
    },
    {
      "cell_type": "code",
      "source": [
        "animals = ['cat','dog','fish']\n",
        "animals[0] = 'monkey'\n",
        "x=animals[0]\n",
        "x = len(animals)\n",
        "print(x)"
      ],
      "metadata": {
        "colab": {
          "base_uri": "https://localhost:8080/"
        },
        "id": "qek0lMrlhpLE",
        "outputId": "70fab884-db9e-4656-8d6a-d8cb084740fe"
      },
      "execution_count": 2,
      "outputs": [
        {
          "output_type": "stream",
          "name": "stdout",
          "text": [
            "3\n"
          ]
        }
      ]
    },
    {
      "cell_type": "markdown",
      "source": [
        "Looping array Elements"
      ],
      "metadata": {
        "id": "q3u2Neeuh4pU"
      }
    },
    {
      "cell_type": "code",
      "source": [
        "animals = ['cat','dog','fish']\n",
        "for x in animals:\n",
        "  print(x)"
      ],
      "metadata": {
        "colab": {
          "base_uri": "https://localhost:8080/"
        },
        "id": "yFLZNZ-Oh-81",
        "outputId": "deb6134e-259f-46c1-ed9c-3e32e2e4d4a1"
      },
      "execution_count": 3,
      "outputs": [
        {
          "output_type": "stream",
          "name": "stdout",
          "text": [
            "cat\n",
            "dog\n",
            "fish\n"
          ]
        }
      ]
    },
    {
      "cell_type": "markdown",
      "source": [
        "Adding Elements in the Array"
      ],
      "metadata": {
        "id": "O9qEQXbNiBYt"
      }
    },
    {
      "cell_type": "code",
      "source": [
        "animals = ['cat','dog','fish']\n",
        "animals.append('monkey')\n",
        "print(animals)"
      ],
      "metadata": {
        "colab": {
          "base_uri": "https://localhost:8080/"
        },
        "id": "-f5S0EDHicEm",
        "outputId": "8d8fd11a-b254-4e5e-a270-b3c56bd834d4"
      },
      "execution_count": 4,
      "outputs": [
        {
          "output_type": "stream",
          "name": "stdout",
          "text": [
            "['cat', 'dog', 'fish', 'monkey']\n"
          ]
        }
      ]
    },
    {
      "cell_type": "markdown",
      "source": [
        "Removing an Element in the Array"
      ],
      "metadata": {
        "id": "dmjPIzggimGr"
      }
    },
    {
      "cell_type": "code",
      "source": [
        "animals = ['cat','dog','fish']\n",
        "animals.pop(1)\n",
        "animals.pop(0)\n",
        "print(animals)"
      ],
      "metadata": {
        "colab": {
          "base_uri": "https://localhost:8080/"
        },
        "id": "NszbuW98im6I",
        "outputId": "0d1883a2-6cdb-4549-c923-4815ccc1b7d6"
      },
      "execution_count": 5,
      "outputs": [
        {
          "output_type": "stream",
          "name": "stdout",
          "text": [
            "['fish']\n"
          ]
        }
      ]
    }
  ]
}