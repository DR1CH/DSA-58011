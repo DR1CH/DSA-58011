{
  "nbformat": 4,
  "nbformat_minor": 0,
  "metadata": {
    "colab": {
      "provenance": [],
      "authorship_tag": "ABX9TyMqXomENUyZl574/xVcz621",
      "include_colab_link": true
    },
    "kernelspec": {
      "name": "python3",
      "display_name": "Python 3"
    },
    "language_info": {
      "name": "python"
    }
  },
  "cells": [
    {
      "cell_type": "markdown",
      "metadata": {
        "id": "view-in-github",
        "colab_type": "text"
      },
      "source": [
        "<a href=\"https://colab.research.google.com/github/DR1CH/DSA-58011/blob/main/Activity2.ipynb\" target=\"_parent\"><img src=\"https://colab.research.google.com/assets/colab-badge.svg\" alt=\"Open In Colab\"/></a>"
      ]
    },
    {
      "cell_type": "markdown",
      "source": [
        "Write a Python program to create a singly linked list of vowel in English alphabet. By iterating through the list, display all the vowels, the head, and the tail of the list."
      ],
      "metadata": {
        "id": "g7sEz8xurPcW"
      }
    },
    {
      "cell_type": "code",
      "source": [
        "class Vowel:\n",
        "  def __init__(self,data):\n",
        "    self.data = data\n",
        "    self.next = None\n",
        "\n",
        "class LinkedList:\n",
        "  def __init__(self):\n",
        "    self.head = None\n",
        "  def printList(self):\n",
        "    temp = self.head\n",
        "    while(temp):\n",
        "      print(temp.data)\n",
        "      temp = temp.next\n",
        "\n",
        "\n",
        "llist = LinkedList()\n",
        "\n",
        "llist.head = Vowel(\"a\")\n",
        "second = Vowel(\"e\")\n",
        "third = Vowel(\"i\")\n",
        "fourth = Vowel(\"o\")\n",
        "llist.tail = Vowel(\"u\")\n",
        "\n",
        "llist.head.next = second\n",
        "second.next = third\n",
        "third.next = fourth\n",
        "fourth.next = llist.tail\n",
        "\n",
        "llist.printList()"
      ],
      "metadata": {
        "colab": {
          "base_uri": "https://localhost:8080/"
        },
        "id": "_cYGL6BhrTt3",
        "outputId": "5ebc3cc6-db54-474f-af33-3a6b55c0c006"
      },
      "execution_count": 1,
      "outputs": [
        {
          "output_type": "stream",
          "name": "stdout",
          "text": [
            "a\n",
            "e\n",
            "i\n",
            "o\n",
            "u\n"
          ]
        }
      ]
    }
  ]
}